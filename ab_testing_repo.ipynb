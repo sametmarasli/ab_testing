{
 "cells": [
  {
   "cell_type": "markdown",
   "metadata": {},
   "source": [
    "<a id='home'></a>"
   ]
  },
  {
   "cell_type": "markdown",
   "metadata": {},
   "source": [
    "# Table of Contents\n",
    "## 1. [Distributions](#1)\n",
    "## 2. [Variability](#2)\n",
    "## 3. [Empirical Sizing](#3)\n",
    "## 4. [Tracking Multiple Metrics](#4)\n",
    "## 5. [Simulations](#5)"
   ]
  },
  {
   "cell_type": "code",
   "execution_count": 1,
   "metadata": {
    "collapsed": false
   },
   "outputs": [],
   "source": [
    "from scipy.stats import binom\n",
    "from scipy.stats import norm\n",
    "from __future__ import division\n",
    "import numpy as np\n",
    "import pandas as pd\n",
    "import matplotlib.pyplot as plt\n",
    "import seaborn as sns\n",
    "%matplotlib inline"
   ]
  },
  {
   "cell_type": "markdown",
   "metadata": {},
   "source": [
    "<a id='1'></a>"
   ]
  },
  {
   "cell_type": "markdown",
   "metadata": {},
   "source": [
    "# 1. Distributions"
   ]
  },
  {
   "cell_type": "markdown",
   "metadata": {},
   "source": [
    "## 1.a. Normal Distribution\n",
    "\n",
    "https://docs.scipy.org/doc/scipy/reference/generated/scipy.stats.norm.html"
   ]
  },
  {
   "cell_type": "code",
   "execution_count": 2,
   "metadata": {
    "collapsed": false
   },
   "outputs": [
    {
     "name": "stdout",
     "output_type": "stream",
     "text": [
      "1.64485362695\n",
      "-1.95996398454\n",
      "0.5\n",
      "0.398942280401\n",
      "0.977249868052\n",
      "0.0227501319482\n"
     ]
    },
    {
     "data": {
      "image/png": "[encoded data removed]",
      "text/plain": [
       "<matplotlib.figure.Figure at 0x7fc5b2fc8090>"
      ]
     },
     "metadata": {},
     "output_type": "display_data"
    }
   ],
   "source": [
    "mean, var, skew, kurt = norm.stats(moments='mvsk')\n",
    "mean,var\n",
    "\n",
    "x = np.arange(-5,5,.01)\n",
    "plt.plot(x,norm.pdf(x))\n",
    "\n",
    "r = norm.rvs(size=1000)\n",
    "plt.hist(r, normed=True, histtype='stepfilled', alpha=0.2);\n",
    "\n",
    "print norm.ppf(.95, loc=0, scale=1)\n",
    "print norm.ppf(.025, loc=0, scale=1)\n",
    "print norm.cdf(0, loc=0, scale=1)\n",
    "print norm.pdf(0, loc=0, scale=1)\n",
    "print norm.cdf(2, loc=0, scale=1)\n",
    "print norm.sf(2, loc=0, scale=1)"
   ]
  },
  {
   "cell_type": "markdown",
   "metadata": {},
   "source": [
    "## 1.b. Binominal Distribution\n",
    "\n",
    "https://docs.scipy.org/doc/scipy/reference/generated/scipy.stats.binom.html"
   ]
  },
  {
   "cell_type": "code",
   "execution_count": 3,
   "metadata": {
    "collapsed": false,
    "scrolled": false
   },
   "outputs": [
    {
     "name": "stdout",
     "output_type": "stream",
     "text": [
      "0.0610961914062\n",
      "0.971313476562\n",
      "0.0286865234375\n",
      "10.0\n",
      "7.0\n"
     ]
    },
    {
     "data": {
      "image/png": "[encoded data removed]",
      "text/plain": [
       "<matplotlib.figure.Figure at 0x7fc5b0a547d0>"
      ]
     },
     "metadata": {},
     "output_type": "display_data"
    }
   ],
   "source": [
    "# distribution of 14 times fair coin toss\n",
    "n, p = 14, 0.5\n",
    "mean, var, skew, kurt = binom.stats(n, p, moments='mvsk')\n",
    "\n",
    "fig, ax = plt.subplots(1, 1)\n",
    "\n",
    "x = np.arange(binom.ppf(0.001, n, p),\n",
    "              binom.ppf(0.9999, n, p))\n",
    "# x = [e for e in range(14)]\n",
    "ax.plot(x, binom.pmf(x, n, p), 'bo', ms=8, label='binom pmf')\n",
    "ax.vlines(x, 0, binom.pmf(x, n, p), colors='b', lw=5, alpha=0.5)\n",
    "plt.xlim([0,15])\n",
    "\n",
    "print binom.pmf(10,n,p) \n",
    "print binom.cdf(10,n,p)\n",
    "print binom.sf(10,n,p) # 1-cdf\n",
    "print binom.ppf(binom.cdf(10,n,p), n, p)\n",
    "print binom.ppf(.60, n, p) # inverse of cdf - percentiles"
   ]
  },
  {
   "cell_type": "markdown",
   "metadata": {},
   "source": [
    "#### Example"
   ]
  },
  {
   "cell_type": "code",
   "execution_count": 4,
   "metadata": {
    "collapsed": false
   },
   "outputs": [
    {
     "name": "stdout",
     "output_type": "stream",
     "text": [
      "300.0 1700.0\n"
     ]
    },
    {
     "data": {
      "text/plain": [
       "(0.15, (0.129, 0.171))"
      ]
     },
     "execution_count": 4,
     "metadata": {},
     "output_type": "execute_result"
    }
   ],
   "source": [
    "n = 2000.\n",
    "event = 300\n",
    "CI = .99\n",
    "alpha = 1-CI\n",
    "# point estimate\n",
    "p_hat = event/n\n",
    "# as a rule of thumb, if both values are bigger than five, use normal dist\n",
    "print n*p_hat,n*(1-p_hat)\n",
    "# z score \n",
    "zcrit = norm.ppf(1-alpha/2)\n",
    "# standart error\n",
    "SE = np.sqrt((p_hat*(1-p_hat))/n)\n",
    "# margin of error\n",
    "m = zcrit*SE\n",
    "# Interval estimate\n",
    "interval = (round(p_hat-m,3),round(p_hat+m,3))\n",
    "p_hat,interval\n",
    "# there is significant evidence that the ratio is different than 0."
   ]
  },
  {
   "cell_type": "markdown",
   "metadata": {},
   "source": [
    "####  CTR simulation\n",
    "\n",
    "http://www.marketingdistillery.com/2014/09/24/bayesian-modeling-of-click-through-rate-for-small-data/"
   ]
  },
  {
   "cell_type": "code",
   "execution_count": 5,
   "metadata": {
    "collapsed": false
   },
   "outputs": [
    {
     "data": {
      "text/plain": [
       "array([0, 0, 0, 0, 0, 1, 0, 1, 1, 1, 0, 0, 0, 0, 0, 0, 0, 0, 0, 0, 0, 0, 0,\n",
       "       0, 0, 0, 1, 0, 1, 0, 0, 0, 0, 1, 1, 0, 0, 0, 0, 0, 0, 0, 0, 0, 0, 0,\n",
       "       0, 0, 0, 0, 0, 0, 0, 0, 0, 0, 0, 0, 0, 1, 0, 0, 0, 0, 0, 0, 0, 0, 0,\n",
       "       0, 0, 0, 0, 0, 0, 0, 0, 0, 0, 0, 0, 0, 0, 0, 0, 0, 0, 0, 0, 0, 0, 0,\n",
       "       0, 0, 0, 0, 0, 0, 0, 0])"
      ]
     },
     "execution_count": 5,
     "metadata": {},
     "output_type": "execute_result"
    }
   ],
   "source": [
    "# simulate a record of 100 impressions of an ad with 10% CTR \n",
    "p = .1\n",
    "n = 100\n",
    "binom.rvs(1, .1, loc=0, size=n, random_state=None)"
   ]
  },
  {
   "cell_type": "code",
   "execution_count": 6,
   "metadata": {
    "collapsed": false
   },
   "outputs": [
    {
     "name": "stdout",
     "output_type": "stream",
     "text": [
      "9.0 10.0\n",
      "0.131865346824\n",
      "0.583155512266\n",
      "10.0\n"
     ]
    },
    {
     "data": {
      "image/png": "[encoded data removed]",
      "text/plain": [
       "<matplotlib.figure.Figure at 0x7fc5b0504990>"
      ]
     },
     "metadata": {},
     "output_type": "display_data"
    }
   ],
   "source": [
    "x = range(n)\n",
    "plt.plot(x,binom.pmf(x,n,p))\n",
    "plt.xlabel('Clicks')\n",
    "plt.ylabel('Probability');\n",
    "var,mu = binom.var(n,p),binom.mean(n,p)\n",
    "print var,mu\n",
    "print binom.pmf(10, n, p)\n",
    "print binom.cdf(10, n, p)\n",
    "print binom.ppf(.58, n, p)"
   ]
  },
  {
   "cell_type": "markdown",
   "metadata": {},
   "source": [
    "#### Sign Test: Calculating p values with Binominal Distribution"
   ]
  },
  {
   "cell_type": "code",
   "execution_count": 7,
   "metadata": {
    "collapsed": false
   },
   "outputs": [
    {
     "name": "stdout",
     "output_type": "stream",
     "text": [
      "0.0078125\n",
      "0.015625\n"
     ]
    }
   ],
   "source": [
    "# or use the calculator http://graphpad.com/quickcalcs/binomial1.cfm\n",
    "\n",
    "# ex: 7 positive values out of 7 samples\n",
    "n ,p = 7, .5\n",
    "# the probability of 7 coin toss and 7 sucess\n",
    "# one tail p value\n",
    "print binom.pmf(7, n, p)\n",
    "# 1-binom.cdf(6, n, p,)\n",
    "# 1-binom.sf(6, n, p,)\n",
    "\n",
    "# two tail p value \n",
    "# This is the chance of observing either 7 or more successes, \n",
    "# or 0 or fewer successes, in 7 trials. \n",
    "print 2*binom.sf(6, n, p,)\n",
    "\n",
    "# since p_value is less than alpha level (.05) reject the null (no significant difference between samples)\n",
    "# and so the sign test  dictates that there is significant evidence for positive change\n",
    "# So lunch the experiment since it increases the CTR according to the result of sign test"
   ]
  },
  {
   "cell_type": "code",
   "execution_count": 8,
   "metadata": {
    "collapsed": false
   },
   "outputs": [
    {
     "name": "stdout",
     "output_type": "stream",
     "text": [
      "0.2265625\n",
      "0.2265625\n",
      "0.453125\n",
      "0.453125\n"
     ]
    }
   ],
   "source": [
    "# ex: 5 positive values out of 7 samples\n",
    "# one-tail P value\n",
    "# This is the chance of observing 5 or more successes in 7 trials. \n",
    "print binom.pmf(5,n,p)+binom.pmf(6,n,p)+binom.pmf(7,n,p)\n",
    "# or\n",
    "print binom.sf(4,n,p)\n",
    "# two-tail P value\n",
    "# This is the chance of observing either 5 or more successes,\n",
    "# or 2 or fewer successes, in 7 trials. \n",
    "print binom.sf(4,n,p)*2\n",
    "# or\n",
    "print binom.pmf(5,n,p)+binom.pmf(6,n,p)+binom.pmf(7,n,p)+\\\n",
    "      binom.pmf(0,n,p)+binom.pmf(2,n,p)+binom.pmf(1,n,p)"
   ]
  },
  {
   "cell_type": "markdown",
   "metadata": {},
   "source": [
    "[HOME](#home)"
   ]
  },
  {
   "cell_type": "markdown",
   "metadata": {},
   "source": [
    "<a id='2'></a>"
   ]
  },
  {
   "cell_type": "markdown",
   "metadata": {},
   "source": [
    "# 2. Variability"
   ]
  },
  {
   "cell_type": "markdown",
   "metadata": {},
   "source": [
    "## 2.a. Normality tests"
   ]
  },
  {
   "cell_type": "code",
   "execution_count": 9,
   "metadata": {
    "collapsed": false
   },
   "outputs": [
    {
     "name": "stdout",
     "output_type": "stream",
     "text": [
      "NormaltestResult(statistic=0.44828905768897848, pvalue=0.79919961862449163)\n",
      "(0.9991307854652405, 0.9317059516906738)\n"
     ]
    },
    {
     "data": {
      "image/png": "[encoded data removed]",
      "text/plain": [
       "<matplotlib.figure.Figure at 0x7fc5b03cf610>"
      ]
     },
     "metadata": {},
     "output_type": "display_data"
    }
   ],
   "source": [
    "from scipy import stats\n",
    "\n",
    "a = norm.rvs(size=1000)\n",
    "\n",
    "plt.hist(a,normed=True);\n",
    "print stats.normaltest(a) # D’Agostino and Pearson’s \n",
    "print stats.shapiro(a)    # Shapiro-Wilk's"
   ]
  },
  {
   "cell_type": "markdown",
   "metadata": {},
   "source": [
    "## 2.b. Empirical vs Analytical Variability Example¶"
   ]
  },
  {
   "cell_type": "code",
   "execution_count": 10,
   "metadata": {
    "collapsed": false
   },
   "outputs": [
    {
     "data": {
      "text/plain": [
       "0.730488657951355"
      ]
     },
     "execution_count": 10,
     "metadata": {},
     "output_type": "execute_result"
    },
    {
     "data": {
      "image/png": "[encoded data removed]",
      "text/plain": [
       "<matplotlib.figure.Figure at 0x7fc5b03111d0>"
      ]
     },
     "metadata": {},
     "output_type": "display_data"
    }
   ],
   "source": [
    "df = pd.read_csv(\"empirical_var_python.csv\")\n",
    "N = 50\n",
    "alpha = .05\n",
    "df['diff'] = df['Group 1']-df['Group 2']\n",
    "# the distribution seems normal\n",
    "df['diff'].hist(bins=6);\n",
    "# normality test\n",
    "stats.shapiro(df['diff'])[1] # data is normally dist."
   ]
  },
  {
   "cell_type": "code",
   "execution_count": 11,
   "metadata": {
    "collapsed": false
   },
   "outputs": [
    {
     "data": {
      "text/plain": [
       "0.0592"
      ]
     },
     "execution_count": 11,
     "metadata": {},
     "output_type": "execute_result"
    }
   ],
   "source": [
    "# empirical standart deviation \n",
    "SD_e = round(df['diff'].std(ddof=1),4) # by default std calculates sample stdev\n",
    "SD_e"
   ]
  },
  {
   "cell_type": "code",
   "execution_count": 12,
   "metadata": {
    "collapsed": false
   },
   "outputs": [
    {
     "data": {
      "text/plain": [
       "0.116"
      ]
     },
     "execution_count": 12,
     "metadata": {},
     "output_type": "execute_result"
    }
   ],
   "source": [
    "# empirical margin of error\n",
    "z_star = norm.ppf(1-alpha/2)\n",
    "m_e = round(SD_e*z_star,4)\n",
    "m_e"
   ]
  },
  {
   "cell_type": "code",
   "execution_count": 13,
   "metadata": {
    "collapsed": false
   },
   "outputs": [
    {
     "data": {
      "text/html": [
       "<div>\n",
       "<table border=\"1\" class=\"dataframe\">\n",
       "  <thead>\n",
       "    <tr style=\"text-align: right;\">\n",
       "      <th></th>\n",
       "      <th>Group 1</th>\n",
       "      <th>Group 2</th>\n",
       "      <th>diff</th>\n",
       "      <th>p_pool</th>\n",
       "      <th>SE_pool</th>\n",
       "      <th>m_a</th>\n",
       "    </tr>\n",
       "  </thead>\n",
       "  <tbody>\n",
       "    <tr>\n",
       "      <th>0</th>\n",
       "      <td>0.10</td>\n",
       "      <td>0.04</td>\n",
       "      <td>0.06</td>\n",
       "      <td>0.07</td>\n",
       "      <td>0.0510</td>\n",
       "      <td>0.1000</td>\n",
       "    </tr>\n",
       "    <tr>\n",
       "      <th>1</th>\n",
       "      <td>0.10</td>\n",
       "      <td>0.10</td>\n",
       "      <td>0.00</td>\n",
       "      <td>0.10</td>\n",
       "      <td>0.0600</td>\n",
       "      <td>0.1176</td>\n",
       "    </tr>\n",
       "    <tr>\n",
       "      <th>2</th>\n",
       "      <td>0.04</td>\n",
       "      <td>0.12</td>\n",
       "      <td>-0.08</td>\n",
       "      <td>0.08</td>\n",
       "      <td>0.0543</td>\n",
       "      <td>0.1064</td>\n",
       "    </tr>\n",
       "    <tr>\n",
       "      <th>3</th>\n",
       "      <td>0.14</td>\n",
       "      <td>0.08</td>\n",
       "      <td>0.06</td>\n",
       "      <td>0.11</td>\n",
       "      <td>0.0626</td>\n",
       "      <td>0.1227</td>\n",
       "    </tr>\n",
       "    <tr>\n",
       "      <th>4</th>\n",
       "      <td>0.00</td>\n",
       "      <td>0.10</td>\n",
       "      <td>-0.10</td>\n",
       "      <td>0.05</td>\n",
       "      <td>0.0436</td>\n",
       "      <td>0.0855</td>\n",
       "    </tr>\n",
       "    <tr>\n",
       "      <th>5</th>\n",
       "      <td>0.08</td>\n",
       "      <td>0.16</td>\n",
       "      <td>-0.08</td>\n",
       "      <td>0.12</td>\n",
       "      <td>0.0650</td>\n",
       "      <td>0.1274</td>\n",
       "    </tr>\n",
       "    <tr>\n",
       "      <th>6</th>\n",
       "      <td>0.18</td>\n",
       "      <td>0.12</td>\n",
       "      <td>0.06</td>\n",
       "      <td>0.15</td>\n",
       "      <td>0.0714</td>\n",
       "      <td>0.1399</td>\n",
       "    </tr>\n",
       "    <tr>\n",
       "      <th>7</th>\n",
       "      <td>0.08</td>\n",
       "      <td>0.20</td>\n",
       "      <td>-0.12</td>\n",
       "      <td>0.14</td>\n",
       "      <td>0.0694</td>\n",
       "      <td>0.1360</td>\n",
       "    </tr>\n",
       "    <tr>\n",
       "      <th>8</th>\n",
       "      <td>0.08</td>\n",
       "      <td>0.08</td>\n",
       "      <td>0.00</td>\n",
       "      <td>0.08</td>\n",
       "      <td>0.0543</td>\n",
       "      <td>0.1064</td>\n",
       "    </tr>\n",
       "    <tr>\n",
       "      <th>9</th>\n",
       "      <td>0.12</td>\n",
       "      <td>0.16</td>\n",
       "      <td>-0.04</td>\n",
       "      <td>0.14</td>\n",
       "      <td>0.0694</td>\n",
       "      <td>0.1360</td>\n",
       "    </tr>\n",
       "    <tr>\n",
       "      <th>10</th>\n",
       "      <td>0.06</td>\n",
       "      <td>0.06</td>\n",
       "      <td>0.00</td>\n",
       "      <td>0.06</td>\n",
       "      <td>0.0475</td>\n",
       "      <td>0.0931</td>\n",
       "    </tr>\n",
       "    <tr>\n",
       "      <th>11</th>\n",
       "      <td>0.08</td>\n",
       "      <td>0.12</td>\n",
       "      <td>-0.04</td>\n",
       "      <td>0.10</td>\n",
       "      <td>0.0600</td>\n",
       "      <td>0.1176</td>\n",
       "    </tr>\n",
       "    <tr>\n",
       "      <th>12</th>\n",
       "      <td>0.14</td>\n",
       "      <td>0.10</td>\n",
       "      <td>0.04</td>\n",
       "      <td>0.12</td>\n",
       "      <td>0.0650</td>\n",
       "      <td>0.1274</td>\n",
       "    </tr>\n",
       "    <tr>\n",
       "      <th>13</th>\n",
       "      <td>0.08</td>\n",
       "      <td>0.08</td>\n",
       "      <td>0.00</td>\n",
       "      <td>0.08</td>\n",
       "      <td>0.0543</td>\n",
       "      <td>0.1064</td>\n",
       "    </tr>\n",
       "    <tr>\n",
       "      <th>14</th>\n",
       "      <td>0.08</td>\n",
       "      <td>0.12</td>\n",
       "      <td>-0.04</td>\n",
       "      <td>0.10</td>\n",
       "      <td>0.0600</td>\n",
       "      <td>0.1176</td>\n",
       "    </tr>\n",
       "    <tr>\n",
       "      <th>15</th>\n",
       "      <td>0.08</td>\n",
       "      <td>0.12</td>\n",
       "      <td>-0.04</td>\n",
       "      <td>0.10</td>\n",
       "      <td>0.0600</td>\n",
       "      <td>0.1176</td>\n",
       "    </tr>\n",
       "    <tr>\n",
       "      <th>16</th>\n",
       "      <td>0.12</td>\n",
       "      <td>0.10</td>\n",
       "      <td>0.02</td>\n",
       "      <td>0.11</td>\n",
       "      <td>0.0626</td>\n",
       "      <td>0.1227</td>\n",
       "    </tr>\n",
       "    <tr>\n",
       "      <th>17</th>\n",
       "      <td>0.10</td>\n",
       "      <td>0.16</td>\n",
       "      <td>-0.06</td>\n",
       "      <td>0.13</td>\n",
       "      <td>0.0673</td>\n",
       "      <td>0.1319</td>\n",
       "    </tr>\n",
       "    <tr>\n",
       "      <th>18</th>\n",
       "      <td>0.10</td>\n",
       "      <td>0.10</td>\n",
       "      <td>0.00</td>\n",
       "      <td>0.10</td>\n",
       "      <td>0.0600</td>\n",
       "      <td>0.1176</td>\n",
       "    </tr>\n",
       "    <tr>\n",
       "      <th>19</th>\n",
       "      <td>0.16</td>\n",
       "      <td>0.06</td>\n",
       "      <td>0.10</td>\n",
       "      <td>0.11</td>\n",
       "      <td>0.0626</td>\n",
       "      <td>0.1227</td>\n",
       "    </tr>\n",
       "  </tbody>\n",
       "</table>\n",
       "</div>"
      ],
      "text/plain": [
       "    Group 1  Group 2  diff  p_pool  SE_pool     m_a\n",
       "0      0.10     0.04  0.06    0.07   0.0510  0.1000\n",
       "1      0.10     0.10  0.00    0.10   0.0600  0.1176\n",
       "2      0.04     0.12 -0.08    0.08   0.0543  0.1064\n",
       "3      0.14     0.08  0.06    0.11   0.0626  0.1227\n",
       "4      0.00     0.10 -0.10    0.05   0.0436  0.0855\n",
       "5      0.08     0.16 -0.08    0.12   0.0650  0.1274\n",
       "6      0.18     0.12  0.06    0.15   0.0714  0.1399\n",
       "7      0.08     0.20 -0.12    0.14   0.0694  0.1360\n",
       "8      0.08     0.08  0.00    0.08   0.0543  0.1064\n",
       "9      0.12     0.16 -0.04    0.14   0.0694  0.1360\n",
       "10     0.06     0.06  0.00    0.06   0.0475  0.0931\n",
       "11     0.08     0.12 -0.04    0.10   0.0600  0.1176\n",
       "12     0.14     0.10  0.04    0.12   0.0650  0.1274\n",
       "13     0.08     0.08  0.00    0.08   0.0543  0.1064\n",
       "14     0.08     0.12 -0.04    0.10   0.0600  0.1176\n",
       "15     0.08     0.12 -0.04    0.10   0.0600  0.1176\n",
       "16     0.12     0.10  0.02    0.11   0.0626  0.1227\n",
       "17     0.10     0.16 -0.06    0.13   0.0673  0.1319\n",
       "18     0.10     0.10  0.00    0.10   0.0600  0.1176\n",
       "19     0.16     0.06  0.10    0.11   0.0626  0.1227"
      ]
     },
     "execution_count": 13,
     "metadata": {},
     "output_type": "execute_result"
    }
   ],
   "source": [
    "# analytical standart error\n",
    "df['p_pool'] = (df['Group 1'] + df['Group 2'])/2\n",
    "\n",
    "def binom_SE(N,p):\n",
    "    return np.sqrt((p*(1-p))*(2/N))\n",
    "\n",
    "df['SE_pool'] = df['p_pool'].map(lambda x: round(binom_SE(N,x),4))\n",
    "\n",
    "\n",
    "#analytical margin of error\n",
    "df['m_a'] = (df['SE_pool']*z_star).map(lambda x: round(x,4))\n",
    "df"
   ]
  },
  {
   "cell_type": "code",
   "execution_count": 14,
   "metadata": {
    "collapsed": false
   },
   "outputs": [
    {
     "name": "stdout",
     "output_type": "stream",
     "text": [
      "1\n",
      "1\n"
     ]
    }
   ],
   "source": [
    "# How many experiments yielded significant results against the null hypothesis given alpha is .05\n",
    "print sum(abs(df['diff'])>df['m_a']) # calculated with analytical SE\n",
    "print sum(abs(df['diff'])>m_e)       # calculated with empirical SD"
   ]
  },
  {
   "cell_type": "markdown",
   "metadata": {},
   "source": [
    "## 2.c. Empirical Variability: Bootstrapping\n"
   ]
  },
  {
   "cell_type": "code",
   "execution_count": 15,
   "metadata": {
    "collapsed": false
   },
   "outputs": [
    {
     "data": {
      "text/plain": [
       "0.7655019164085388"
      ]
     },
     "execution_count": 15,
     "metadata": {},
     "output_type": "execute_result"
    },
    {
     "data": {
      "image/png": "[encoded data removed]",
      "text/plain": [
       "<matplotlib.figure.Figure at 0x7fc5b02a1110>"
      ]
     },
     "metadata": {},
     "output_type": "display_data"
    }
   ],
   "source": [
    "df = pd.read_csv(\"bootstrapping_python.csv\")\n",
    "N = 100\n",
    "alpha = .05\n",
    "df['diff'] = df['Group 1']-df['Group 2']\n",
    "# the distribution seems normal\n",
    "df['diff'].hist(bins=10);\n",
    "# normality test\n",
    "stats.shapiro(df['diff'])[1] # data is normally dist."
   ]
  },
  {
   "cell_type": "code",
   "execution_count": 16,
   "metadata": {
    "collapsed": false
   },
   "outputs": [
    {
     "data": {
      "text/plain": [
       "(-0.067, 0.0755)"
      ]
     },
     "execution_count": 16,
     "metadata": {},
     "output_type": "execute_result"
    }
   ],
   "source": [
    "# 1.way of calculating CI with using empirical variability\n",
    "sd_e = df['diff'].std()\n",
    "x_bar = df['diff'].mean()\n",
    "z_star = norm.ppf(1-alpha/2)\n",
    "# empirical margin of error\n",
    "m = sd_e * z_star\n",
    "# confidence interval\n",
    "CI_l,CI_h = round(x_bar-m,4),round(x_bar+m,4)\n",
    "CI_l,CI_h"
   ]
  },
  {
   "cell_type": "code",
   "execution_count": 17,
   "metadata": {
    "collapsed": false
   },
   "outputs": [
    {
     "name": "stderr",
     "output_type": "stream",
     "text": [
      "/home/samet/anaconda2/lib/python2.7/site-packages/pandas/indexes/base.py:1275: VisibleDeprecationWarning: non integer (and non boolean) array-likes will not be accepted as indices in the future\n",
      "  result = getitem(key)\n"
     ]
    },
    {
     "data": {
      "text/plain": [
       "(-0.06, 0.08)"
      ]
     },
     "execution_count": 17,
     "metadata": {},
     "output_type": "execute_result"
    }
   ],
   "source": [
    "# 2.way of calculating CI with using empirical variability\n",
    "# find which value to choose as boundary\n",
    "outlier = df.shape[0]*alpha/2 \n",
    "# choose outliers from the ordered list\n",
    "CI_l,CI_h = [round(e,4) for e in df['diff'].sort_values().iloc[[outlier,-outlier-1]]]\n",
    "CI_l,CI_h"
   ]
  },
  {
   "cell_type": "markdown",
   "metadata": {},
   "source": [
    "[HOME](#home)"
   ]
  },
  {
   "cell_type": "markdown",
   "metadata": {},
   "source": [
    "<a id='3'></a>"
   ]
  },
  {
   "cell_type": "markdown",
   "metadata": {},
   "source": [
    "# 3. Empirical Sizing"
   ]
  },
  {
   "cell_type": "markdown",
   "metadata": {},
   "source": [
    "## 3.a. Calculate Required Sample Size for Mean Metrics"
   ]
  },
  {
   "cell_type": "code",
   "execution_count": 43,
   "metadata": {
    "collapsed": true
   },
   "outputs": [],
   "source": [
    "def calc_SE(st,se,n):\n",
    "    # a simple pooled SE\n",
    "    return round(np.sqrt((st**2/n)+(se**2/n)),2) \n",
    "\n",
    "def get_z_star(alpha):\n",
    "    return round(norm.ppf(1-alpha/2),2)\n",
    "\n",
    "def CI(SE,z_star,mu=0):\n",
    "    # calculate to show on graph\n",
    "    return mu-SE*z_star,mu+SE*z_star\n",
    "\n",
    "def compare_densities(d,SE,n,ci_e,draw=None,mu=0):\n",
    "    if draw:\n",
    "        den = norm.rvs(loc=mu, scale=SE, size=n)\n",
    "        sns.distplot(den, kde=True, hist=False)\n",
    "        den2 = norm.rvs(loc=d, scale=SE, size=n)\n",
    "        sns.distplot(den2, kde=True, hist=False)\n",
    "        if d>0:\n",
    "            plt.plot([ci_e[1] for e in np.linspace(0,.25)], np.linspace(0,.35))\n",
    "        else:\n",
    "            plt.plot([ci_e[0] for e in np.linspace(0,.25)], np.linspace(0,.35))\n",
    "        plt.show()\n",
    "        \n",
    "    # 1. way\n",
    "#     z = round((ci_e[0]-d)/SE,2)\n",
    "#     power_book = norm.cdf(z)\n",
    "    \n",
    "    # 2. way\n",
    "    beta =  norm.cdf(SE*get_z_star(alpha),loc=abs(d),scale=SE)\n",
    "    power = 1-beta\n",
    "    return power,beta        \n",
    "\n",
    "def find_n(d,beta,alpha,se,st):\n",
    "    SE = abs(d)/(norm.isf(beta)+get_z_star(alpha))\n",
    "    n = round((se**2+st**2)/SE**2,2)\n",
    "    print 'We should target about {} patients per group.'.format(int(n))\n",
    "    return n"
   ]
  },
  {
   "cell_type": "markdown",
   "metadata": {},
   "source": [
    "#### Excercise"
   ]
  },
  {
   "cell_type": "code",
   "execution_count": 44,
   "metadata": {
    "collapsed": false
   },
   "outputs": [
    {
     "name": "stdout",
     "output_type": "stream",
     "text": [
      "We should target about 251 patients per group.\n"
     ]
    }
   ],
   "source": [
    "# example from Openintro statistics \n",
    "# 5.4.3 Determining a proper sample size\n",
    "beta = .20 # power = 1-beta\n",
    "alpha = .05\n",
    "d = -3\n",
    "st = 12.\n",
    "se = 12.\n",
    "size = find_n(d,beta,alpha,se,st) "
   ]
  },
  {
   "cell_type": "code",
   "execution_count": 45,
   "metadata": {
    "collapsed": false
   },
   "outputs": [
    {
     "data": {
      "image/png": "[encoded data removed]",
      "text/plain": [
       "<matplotlib.figure.Figure at 0x7fc5b0332bd0>"
      ]
     },
     "metadata": {},
     "output_type": "display_data"
    },
    {
     "name": "stdout",
     "output_type": "stream",
     "text": [
      "The power for the test is about 80.1% when mutrmt - muctrl = -3 and\n",
      "each group has a sample size of 251.17.\n"
     ]
    }
   ],
   "source": [
    "SE = calc_SE(st,se,size)\n",
    "ci_e = CI(SE,get_z_star(alpha))\n",
    "power,beta = compare_densities(d,SE,size,ci_e,draw=True)\n",
    "print '''The power for the test is about {}% when mutrmt - muctrl = {} and\n",
    "each group has a sample size of {}.'''. format(round(power,3)*100,d,size)"
   ]
  },
  {
   "cell_type": "code",
   "execution_count": 21,
   "metadata": {
    "collapsed": false
   },
   "outputs": [
    {
     "data": {
      "image/png": "[encoded data removed]",
      "text/plain": [
       "<matplotlib.figure.Figure at 0x7fc5affa2c50>"
      ]
     },
     "metadata": {},
     "output_type": "display_data"
    }
   ],
   "source": [
    "#Figure shows the power for sample sizes from 20 patients to 5,000 patients \n",
    "# when α = 0.05 and the true difference is -3. This curve was constructed by \n",
    "# writing a program to compute the power for many different sample sizes.\n",
    "\n",
    "n_s = np.linspace(20,800)\n",
    "pow_list = []\n",
    "for n in n_s:\n",
    "    SE = calc_SE(st,se,n)\n",
    "    ci_e = CI(SE,get_z_star(alpha))\n",
    "    pow_list.append( compare_densities(d,SE,n,ci_e))\n",
    "plt.plot(n_s,[e[0] for e in pow_list],label='Power')\n",
    "plt.plot(n_s,[e[1] for e in pow_list],label='Beta')\n",
    "plt.legend();"
   ]
  },
  {
   "cell_type": "markdown",
   "metadata": {},
   "source": [
    "## 3.b.  Calulate Required Sample Size for Probability Metrics"
   ]
  },
  {
   "cell_type": "markdown",
   "metadata": {},
   "source": [
    "#### First Way: Works with Analytic Variability"
   ]
  },
  {
   "cell_type": "code",
   "execution_count": 22,
   "metadata": {
    "collapsed": true
   },
   "outputs": [],
   "source": [
    "def calc_SE_f(p,N):\n",
    "    return np.sqrt((p*(1-p)*2)/(N))\n",
    "\n",
    "def get_beta_f(SE,alpha,d_min):\n",
    "    beta =  norm.cdf(SE*get_z_star(alpha),loc=abs(d_min),scale=SE)\n",
    "    return beta     \n",
    "\n",
    "def find_n_f(d_min,beta,alpha,p):\n",
    "    SE = abs(d_min)/(norm.isf(beta)+get_z_star(alpha))\n",
    "    N = round((p*(1-p)*2)/SE**2,0)\n",
    "    return N"
   ]
  },
  {
   "cell_type": "markdown",
   "metadata": {},
   "source": [
    "#### Excercise"
   ]
  },
  {
   "cell_type": "code",
   "execution_count": 23,
   "metadata": {
    "collapsed": false
   },
   "outputs": [
    {
     "name": "stdout",
     "output_type": "stream",
     "text": [
      "We should target about 3532.0 patients per group.\n",
      "0.200009625691\n"
     ]
    }
   ],
   "source": [
    "alpha =.05\n",
    "beta = .20\n",
    "d_min=.02\n",
    "p =.1\n",
    "size = find_n_f(d_min,beta,alpha,p)\n",
    "print 'We should target about {} patients per group.'.format(size)\n",
    "print get_beta_f(calc_SE_f(p,size),alpha,d_min)"
   ]
  },
  {
   "cell_type": "markdown",
   "metadata": {},
   "source": [
    "#### Second Way:  Works with both Analytic  and Empirical Variability"
   ]
  },
  {
   "cell_type": "code",
   "execution_count": 24,
   "metadata": {
    "collapsed": true
   },
   "outputs": [],
   "source": [
    "## Strategy: For a bunch of Ns, compute the z_star by achieving desired alpha, then\n",
    "## compute what beta would be for that N using the acquired z_star. \n",
    "## Pick the smallest N at which beta crosses the desired value\n",
    "\n",
    "def get_beta(d,s,N,z_star):\n",
    "    SE = s /  np.sqrt(N)\n",
    "    beta = norm.cdf(SE*z_star, loc=d, scale=SE) \n",
    "    return beta \n",
    "\n",
    "\n",
    "# Returns: The smallest N out of the given Ns that will achieve the desired\n",
    "#          beta. There should be at least N samples in each group of the experiment.\n",
    "#          If none of the given Ns will work, returns -1. N is the number of\n",
    "#          samples in each group.\n",
    "\n",
    "def required_size(s,d_min,beta=.2,alpha=.05,Ns=range(20000)):\n",
    "    for n in Ns:\n",
    "        if get_beta(d_min,s,n,get_z_star(alpha)) < beta:\n",
    "            return n"
   ]
  },
  {
   "cell_type": "markdown",
   "metadata": {},
   "source": [
    "#### Exercise"
   ]
  },
  {
   "cell_type": "code",
   "execution_count": 25,
   "metadata": {
    "collapsed": false
   },
   "outputs": [
    {
     "name": "stdout",
     "output_type": "stream",
     "text": [
      "We should target about 3533 patients per group.\n"
     ]
    },
    {
     "data": {
      "text/plain": [
       "0.19989861579093071"
      ]
     },
     "execution_count": 25,
     "metadata": {},
     "output_type": "execute_result"
    }
   ],
   "source": [
    "## alpha = .05\n",
    "p = .1\n",
    "d_min= .02\n",
    "beta = .20\n",
    "s = np.sqrt(p*(1-p)*2) # standart error for one event\n",
    "size = required_size(s,d_min,beta,alpha)\n",
    "print 'We should target about {} patients per group.'.format(size)\n",
    "get_beta(d_min,s,size,get_z_star(alpha))"
   ]
  },
  {
   "cell_type": "markdown",
   "metadata": {},
   "source": [
    "#### Effects of Changing Unit of Diversion on Sample Size\n",
    "\n",
    "note: Since the standard error is proportional to 1/sqrt(N); s or the standard error for N=1, is equal to the mesaured standard error with 5000 in each group times sqrt(5000)"
   ]
  },
  {
   "cell_type": "code",
   "execution_count": 26,
   "metadata": {
    "collapsed": false
   },
   "outputs": [
    {
     "name": "stdout",
     "output_type": "stream",
     "text": [
      "309610\n"
     ]
    }
   ],
   "source": [
    "# Original size with cookie-based diversion\n",
    "print required_size(s=0.0628*np.sqrt(1000), d_min=0.01, Ns=np.arange(10, 500000, 100))"
   ]
  },
  {
   "cell_type": "code",
   "execution_count": 27,
   "metadata": {
    "collapsed": false
   },
   "outputs": [
    {
     "name": "stdout",
     "output_type": "stream",
     "text": [
      "34310\n"
     ]
    }
   ],
   "source": [
    "# Size with event-based diversion \n",
    "# (Unit of diversion is equal to unit of analysis)\n",
    "# (decreases the variability of metric closer to its analytic estimate)\n",
    "print required_size(s=0.0209*np.sqrt(1000), d_min=0.01, Ns=np.arange(10, 500000, 100))"
   ]
  },
  {
   "cell_type": "code",
   "execution_count": 28,
   "metadata": {
    "collapsed": false
   },
   "outputs": [
    {
     "name": "stdout",
     "output_type": "stream",
     "text": [
      "12330\n"
     ]
    }
   ],
   "source": [
    "# Size with event-based diversion and English-only traffic\n",
    "print required_size(s=0.0188*np.sqrt(1000), d_min=0.015)"
   ]
  },
  {
   "cell_type": "code",
   "execution_count": 29,
   "metadata": {
    "collapsed": false
   },
   "outputs": [
    {
     "name": "stdout",
     "output_type": "stream",
     "text": [
      "69110\n"
     ]
    }
   ],
   "source": [
    "# Size with cookie-based diversion, English-only traffic, and \n",
    "# click-through-probability instead of click-through-rate\n",
    "# (Unit of diversion is equal to unit of analysis)\n",
    "print required_size(s=0.0445*np.sqrt(1000), d_min=0.015, Ns=np.arange(10, 500000, 100))"
   ]
  },
  {
   "cell_type": "markdown",
   "metadata": {},
   "source": [
    "[HOME](#home)"
   ]
  },
  {
   "cell_type": "markdown",
   "metadata": {},
   "source": [
    "<a id='4'></a>"
   ]
  },
  {
   "cell_type": "markdown",
   "metadata": {},
   "source": [
    "# 4. Tracking Multiple Metrics"
   ]
  },
  {
   "cell_type": "markdown",
   "metadata": {},
   "source": [
    "#### Overall Alpha Graph with Independence Assumption\n",
    "\n",
    "For a range of metrics (0-21), this graph show the chance of at least 1 false positive with diffent alpha levels by assuming the metrics are independent from eachother. p(FP>=1) = 1-p(FP=0)\n",
    "\n",
    "    For ex: The probability of at least one false positive for 10 metrics and 95% confidence level is (also called the alpha overall) .40. (1-.95**10)"
   ]
  },
  {
   "cell_type": "code",
   "execution_count": 30,
   "metadata": {
    "collapsed": false,
    "scrolled": true
   },
   "outputs": [
    {
     "data": {
      "image/png": "[encoded data removed]",
      "text/plain": [
       "<matplotlib.figure.Figure at 0x7fc5b01bb250>"
      ]
     },
     "metadata": {},
     "output_type": "display_data"
    }
   ],
   "source": [
    "alpha = [.1, .05, .01 ]\n",
    "no_m = range(21)\n",
    "fig, ax = plt.subplots(1, 1)\n",
    "ax.plot(no_m,[round(1-(1-alpha[0])**e,4) for e in no_m],label=alpha[0])\n",
    "ax.plot(no_m,[round(1-(1-alpha[1])**e,4) for e in no_m],label=alpha[1])\n",
    "ax.plot(no_m,[round(1-(1-alpha[2])**e,4) for e in no_m],label=alpha[2])\n",
    "plt.legend(loc=2)\n",
    "plt.ylabel('overall alpha')\n",
    "plt.title('The overall probability of at least one false positive');\n",
    "# conclusion: choosing 0.01 as alpha for large number of metrics is better"
   ]
  },
  {
   "cell_type": "markdown",
   "metadata": {},
   "source": [
    "#### Bonferroni Correction"
   ]
  },
  {
   "cell_type": "code",
   "execution_count": 31,
   "metadata": {
    "collapsed": false,
    "scrolled": true
   },
   "outputs": [
    {
     "name": "stdout",
     "output_type": "stream",
     "text": [
      "True True True False\n",
      "1.95996398454 the critical value with independence assumption\n",
      "False False False False\n",
      "2.49770547441 the critical value with bonferroni correction\n"
     ]
    }
   ],
   "source": [
    "# ex\n",
    "z = 1.96\n",
    "alpha = .05\n",
    "d = [.03, -0.5, .01 ,10]\n",
    "SE =[.013,.21,.0045, 6.85]\n",
    "# Indepence assumption\n",
    "z = norm.ppf(1-(alpha)/2)\n",
    "print abs(d[0])>SE[0]*z,abs(d[1])>SE[1]*z,abs(d[2])>SE[2]*z,abs(d[3])>SE[3]*z\n",
    "print z,'the critical value with independence assumption'\n",
    "# Bonferroni correction\n",
    "bon = norm.ppf(1-(alpha/4)/2)\n",
    "print abs(d[0])>SE[0]*bon,abs(d[1])>SE[1]*bon,abs(d[2])>SE[2]*bon,abs(d[3])>SE[3]*bon\n",
    "print bon,'the critical value with bonferroni correction'"
   ]
  },
  {
   "cell_type": "markdown",
   "metadata": {},
   "source": [
    "Bonferroni correction may be too much conservative. If the metrics are correlated, they probably more likely to move together. In the example, when bonferroni correction is applied with a higher critical value all the changes are not significant."
   ]
  },
  {
   "cell_type": "markdown",
   "metadata": {},
   "source": [
    "[HOME](#home)"
   ]
  },
  {
   "cell_type": "markdown",
   "metadata": {},
   "source": [
    "<a id='5'></a>"
   ]
  },
  {
   "cell_type": "markdown",
   "metadata": {},
   "source": [
    "# 5. Simulations"
   ]
  },
  {
   "cell_type": "markdown",
   "metadata": {},
   "source": [
    "## 5.a Comparing Click Through Probabilities"
   ]
  },
  {
   "cell_type": "code",
   "execution_count": 32,
   "metadata": {
    "collapsed": false
   },
   "outputs": [
    {
     "name": "stdout",
     "output_type": "stream",
     "text": [
      "The CTP changed by at least 2.021%  which is bigger than the practical significance level 2.0%\n",
      "\n",
      "The confidence interval is (0.02021,0.03765) at 95.0% level(0 is not in the CI)\n",
      "\n",
      "The result is both significant from statistical and practical point of view , so lunch the new version\n"
     ]
    }
   ],
   "source": [
    "ncont = 10072.\n",
    "nexp = 9886.\n",
    "xcont = 974\n",
    "xexp = 1242\n",
    "CI = .95 \n",
    "dmin = .02 #practical sig level\n",
    "# pooled phat\n",
    "phat = (xcont+xexp)/(ncont+nexp)\n",
    "# pooled standart error\n",
    "SE = np.sqrt(phat*(1-phat)*(1/ncont+1/nexp))\n",
    "# phats\n",
    "pcont = xcont/ncont\n",
    "pexp = xexp/nexp\n",
    "# difference hat\n",
    "dhat =  pexp - pcont\n",
    "# margin of error\n",
    "alpha = 1-CI\n",
    "m = SE*norm.ppf(1-alpha/2)\n",
    "dhat,m,CI_l,CI_h = [round(e,5) for e in [dhat,m,dhat-m,dhat+m]]\n",
    "print 'The CTP changed by at least {}%  which is bigger than \\\n",
    "the practical significance level {}%\\n'.format(CI_l*100,dmin*100)\n",
    "print 'The confidence interval is ({},{}) at {}% level\\\n",
    "(0 is not in the CI)\\n'.format(CI_l,CI_h,CI*100)\n",
    "print 'The result is both significant from statistical \\\n",
    "and practical point of view , so lunch the new version'"
   ]
  },
  {
   "cell_type": "markdown",
   "metadata": {},
   "source": [
    "## 5.b. Analysis with a single metric (CTR)"
   ]
  },
  {
   "cell_type": "code",
   "execution_count": 33,
   "metadata": {
    "collapsed": true
   },
   "outputs": [],
   "source": [
    "Xs_cont = [196, 200, 200, 216, 212, 185, 225, 187, 205, 211, 192, 196, 223, 192]\n",
    "Ns_cont = [2029, 1991, 1951, 1985, 1973, 2021, 2041, 1980, 1951, 1988, 1977, 2019, 2035, 2007]\n",
    "Xs_exp = [179, 208, 205, 175, 191, 291, 278, 216, 225, 207, 205, 200, 297, 299]\n",
    "Ns_exp = [1971, 2009, 2049, 2015, 2027, 1979, 1959, 2020, 2049, 2012, 2023, 1981, 1965, 1993]\n",
    "dmin = .01 # practical sig level\n",
    "alpha = .05\n",
    "SE_e = .0062 # empirical se with 5000 pageviews in each group"
   ]
  },
  {
   "cell_type": "code",
   "execution_count": 34,
   "metadata": {
    "collapsed": false
   },
   "outputs": [
    {
     "name": "stdout",
     "output_type": "stream",
     "text": [
      "0.0065 0.0167\n"
     ]
    }
   ],
   "source": [
    "# Effect size\n",
    "SE = SE_e / np.sqrt(1./5000 + 1./5000) * np.sqrt(1./ np.sum(Ns_cont) + 1./ np.sum(Ns_exp))\n",
    "CTR_c = np.sum(Xs_cont)/ np.sum(Ns_cont)\n",
    "CTR_e = np.sum(Xs_exp)/ np.sum(Ns_exp)\n",
    "dhat = CTR_e - CTR_c\n",
    "m = norm.ppf(1-alpha/2) * SE\n",
    "CI_l,CI_u = (round(dhat-m,4),round(dhat+m,4))\n",
    "print CI_l,CI_u\n",
    "# The confidence interval contains practical significance boundary (dmin = .01)"
   ]
  },
  {
   "cell_type": "code",
   "execution_count": 35,
   "metadata": {
    "collapsed": false
   },
   "outputs": [
    {
     "name": "stdout",
     "output_type": "stream",
     "text": [
      "success: 9\n",
      "total: 14\n",
      "0.423950195312\n"
     ]
    }
   ],
   "source": [
    "# Sign Test\n",
    "CTRs_c = np.array(Xs_cont,dtype=float)/ np.array(Ns_cont)\n",
    "CTRs_e = np.array(Xs_exp,dtype=float)/ np.array(Ns_exp)\n",
    "k = np.sum(CTRs_e > CTRs_c) \n",
    "n = len(CTRs_c)\n",
    "p = .5\n",
    "print \"success:\",k\n",
    "print \"total:\",n\n",
    "p_value = 2*binom.sf(k-1,n,.5)\n",
    "print p_value\n",
    "# This is the chance of observing either 9 or more successes, or 5 or fewer successes,\n",
    "# in 14 trials. "
   ]
  },
  {
   "cell_type": "markdown",
   "metadata": {},
   "source": [
    "Effects size show that there is significant difference between CTRs of control and experiment group, but sign test results are insignificant. Therefore, in this case don't lunch the experiment and find the reason why the sign test fails. In this case, check weekends and weekdays seperately."
   ]
  },
  {
   "cell_type": "code",
   "execution_count": 36,
   "metadata": {
    "collapsed": false
   },
   "outputs": [
    {
     "name": "stdout",
     "output_type": "stream",
     "text": [
      "-0.0078 0.0043\n",
      "The confidence interval does NOT contain practical significance boundary (dmin = .01)\n",
      "\n",
      "success: 5\n",
      "total: 10\n",
      "1.24609375\n",
      "p-value is too big, the sign test also does not have significant results\n"
     ]
    }
   ],
   "source": [
    "# weekdays\n",
    "Xs_cont_w = [Xs_cont[e] for e in range(len(Xs_cont)) if e%7<5]\n",
    "Ns_cont_w = [Ns_cont[e] for e in range(len(Ns_cont)) if e%7<5]\n",
    "Xs_exp_w = [Xs_exp[e] for e in range(len(Xs_exp)) if e%7<5]\n",
    "Ns_exp_w = [Ns_exp[e] for e in range(len(Ns_exp)) if e%7<5]\n",
    "\n",
    "SE = SE_e / np.sqrt(1./5000 + 1./5000) * np.sqrt(1./ np.sum(Ns_cont_w) + 1./ np.sum(Ns_exp_w))\n",
    "CTR_c = float(np.sum(Xs_cont_w))/ np.sum(Ns_cont_w)\n",
    "CTR_e = float(np.sum(Xs_exp_w))/ np.sum(Ns_exp_w)\n",
    "dhat = CTR_e - CTR_c\n",
    "m = norm.ppf(1-alpha/2) * SE\n",
    "CI_l,CI_u = (round(dhat-m,4),round(dhat+m,4))\n",
    "print CI_l,CI_u   \n",
    "print 'The confidence interval does NOT contain practical significance boundary (dmin = .01)'\n",
    "\n",
    "# Sign Test\n",
    "CTRs_c = np.array(Xs_cont_w,dtype=float)/ np.array(Ns_cont_w)\n",
    "CTRs_e = np.array(Xs_exp_w,dtype=float)/ np.array(Ns_exp_w)\n",
    "k = np.sum(CTRs_e > CTRs_c) \n",
    "n = len(CTRs_c)\n",
    "p = .5\n",
    "print \"\\nsuccess:\",k\n",
    "print \"total:\",n\n",
    "p_value = 2*binom.sf(k-1,n,p)\n",
    "print p_value\n",
    "print 'p-value is too big, the sign test also does not have significant results'"
   ]
  },
  {
   "cell_type": "code",
   "execution_count": 37,
   "metadata": {
    "collapsed": false
   },
   "outputs": [
    {
     "name": "stdout",
     "output_type": "stream",
     "text": [
      "0.03613384543 0.0553491151903\n",
      "The confidence interval contains practical significance boundary (dmin = .01)\n",
      "\n",
      "success: 4\n",
      "total: 4\n",
      "0.125\n",
      "p-value is small enough for this case, the sign test has significant results\n"
     ]
    }
   ],
   "source": [
    "# weekends\n",
    "Xs_cont_w = [Xs_cont[e] for e in range(len(Xs_cont)) if e%7>4]\n",
    "Ns_cont_w = [Ns_cont[e] for e in range(len(Ns_cont)) if e%7>4]\n",
    "Xs_exp_w = [Xs_exp[e] for e in range(len(Xs_exp)) if e%7>4]\n",
    "Ns_exp_w = [Ns_exp[e] for e in range(len(Ns_exp)) if e%7>4]\n",
    "\n",
    "SE = SE_e / np.sqrt(1./5000 + 1./5000) * np.sqrt(1./ np.sum(Ns_cont_w) + 1./ np.sum(Ns_exp_w))\n",
    "CTR_c = float(np.sum(Xs_cont_w))/ np.sum(Ns_cont_w)\n",
    "CTR_e = float(np.sum(Xs_exp_w))/ np.sum(Ns_exp_w)\n",
    "dhat = CTR_e - CTR_c\n",
    "m = norm.ppf(1-alpha/2) * SE\n",
    "CI_l,CI_u = (dhat-m,dhat+m)\n",
    "\n",
    "print CI_l,CI_u    \n",
    "print 'The confidence interval contains practical significance boundary (dmin = .01)'\n",
    "\n",
    "# Sign Test\n",
    "CTRs_c = np.array(Xs_cont_w,dtype=float)/ np.array(Ns_cont_w)\n",
    "CTRs_e = np.array(Xs_exp_w,dtype=float)/ np.array(Ns_exp_w)\n",
    "k = np.sum(CTRs_e > CTRs_c) \n",
    "n = len(CTRs_c)\n",
    "p = .5\n",
    "print \"\\nsuccess:\",k\n",
    "print \"total:\",n\n",
    "p_value = 2*binom.sf(k-1,n,p)\n",
    "print p_value\n",
    "print 'p-value is small enough for this case, the sign test has significant results'"
   ]
  },
  {
   "cell_type": "markdown",
   "metadata": {},
   "source": [
    "After seperating the data by weekday and weekends, we see that during weekdays there is no significant difference between experiment and the contol group and the sign test states that positive and neg days are seperated equally\n",
    "\n",
    "On the otherhand weekend data states that experiment group is significantly different from the control group and the sign test shows that the difference is positive (by 4 positive results out of 4 days)\n"
   ]
  },
  {
   "cell_type": "markdown",
   "metadata": {},
   "source": [
    "[HOME](#home)"
   ]
  }
 ],
 "metadata": {
  "kernelspec": {
   "display_name": "Python [Root]",
   "language": "python",
   "name": "Python [Root]"
  },
  "language_info": {
   "codemirror_mode": {
    "name": "ipython",
    "version": 2
   },
   "file_extension": ".py",
   "mimetype": "text/x-python",
   "name": "python",
   "nbconvert_exporter": "python",
   "pygments_lexer": "ipython2",
   "version": "2.7.12"
  }
 },
 "nbformat": 4,
 "nbformat_minor": 0
}
