{
 "cells": [
  {
   "cell_type": "markdown",
   "metadata": {},
   "source": [
    "# A/B Testing Project"
   ]
  },
  {
   "cell_type": "markdown",
   "metadata": {},
   "source": [
    "# 1. Experiment Design"
   ]
  },
  {
   "cell_type": "markdown",
   "metadata": {},
   "source": [
    "## 1.1. Metric Choice"
   ]
  },
  {
   "cell_type": "markdown",
   "metadata": {},
   "source": [
    "Invariant metrics: \n",
    "- **Number of cookies**: That is, number of unique cookies to view the course overview page. (dmin=3000)\n",
    "- **Number of clicks**: That is, number of unique cookies to click the \"Start free trial\" button (which happens before the free trial screener is trigger). (dmin=240)\n",
    "- **Click-through-probability**: That is, number of unique cookies to click the \"Start free trial\" button divided by number of unique cookies to view the course overview page. \n",
    "\n",
    "Evaluation metrics:\n",
    "- **Gross conversion**: That is, number of user-ids to complete checkout and enroll in the free trial divided by number of unique cookies to click the \"Start free trial\" button. (dmin= 0.01)\n",
    "- **Retention**: That is, number of user-ids to remain enrolled past the 14-day boundary (and thus make at least one payment) divided by number of user-ids to complete checkout. (dmin=0.01)\n",
    "- **Net conversion**: That is, number of user-ids to remain enrolled past the 14-day boundary (and thus make at least one payment) divided by the number of unique cookies to click the \"Start free trial\" button. (dmin= 0.0075)\n",
    "\n",
    "Other metric:\n",
    "- **Number of user-ids**: That is, number of users who enroll in the free trial. (dmin=50)\n"
   ]
  },
  {
   "cell_type": "code",
   "execution_count": 1,
   "metadata": {
    "collapsed": true
   },
   "outputs": [],
   "source": [
    "import pandas as pd\n",
    "import numpy as np\n",
    "from scipy.stats import norm\n",
    "from scipy.stats import binom\n",
    "import matplotlib.pyplot as plt\n",
    "%matplotlib inline\n",
    "from __future__ import division\n",
    "import seaborn as sns"
   ]
  },
  {
   "cell_type": "code",
   "execution_count": 2,
   "metadata": {
    "collapsed": false
   },
   "outputs": [
    {
     "data": {
      "text/html": [
       "<div>\n",
       "<table border=\"1\" class=\"dataframe\">\n",
       "  <thead>\n",
       "    <tr style=\"text-align: right;\">\n",
       "      <th></th>\n",
       "      <th>0</th>\n",
       "      <th>1</th>\n",
       "    </tr>\n",
       "  </thead>\n",
       "  <tbody>\n",
       "    <tr>\n",
       "      <th>0</th>\n",
       "      <td>Unique cookies to view page per day:</td>\n",
       "      <td>40000.000000</td>\n",
       "    </tr>\n",
       "    <tr>\n",
       "      <th>1</th>\n",
       "      <td>Unique cookies to click \"Start free trial\" per...</td>\n",
       "      <td>3200.000000</td>\n",
       "    </tr>\n",
       "    <tr>\n",
       "      <th>2</th>\n",
       "      <td>Enrollments per day:</td>\n",
       "      <td>660.000000</td>\n",
       "    </tr>\n",
       "    <tr>\n",
       "      <th>3</th>\n",
       "      <td>Click-through-probability on \"Start free trial\":</td>\n",
       "      <td>0.080000</td>\n",
       "    </tr>\n",
       "    <tr>\n",
       "      <th>4</th>\n",
       "      <td>Probability of enrolling, given click:</td>\n",
       "      <td>0.206250</td>\n",
       "    </tr>\n",
       "    <tr>\n",
       "      <th>5</th>\n",
       "      <td>Probability of payment, given enroll:</td>\n",
       "      <td>0.530000</td>\n",
       "    </tr>\n",
       "    <tr>\n",
       "      <th>6</th>\n",
       "      <td>Probability of payment, given click</td>\n",
       "      <td>0.109313</td>\n",
       "    </tr>\n",
       "  </tbody>\n",
       "</table>\n",
       "</div>"
      ],
      "text/plain": [
       "                                                   0             1\n",
       "0               Unique cookies to view page per day:  40000.000000\n",
       "1  Unique cookies to click \"Start free trial\" per...   3200.000000\n",
       "2                               Enrollments per day:    660.000000\n",
       "3   Click-through-probability on \"Start free trial\":      0.080000\n",
       "4             Probability of enrolling, given click:      0.206250\n",
       "5              Probability of payment, given enroll:      0.530000\n",
       "6                Probability of payment, given click      0.109313"
      ]
     },
     "execution_count": 2,
     "metadata": {},
     "output_type": "execute_result"
    }
   ],
   "source": [
    "# rough estimates of the baseline values for these metrics \n",
    "df_base = pd.read_excel('Final Project Baseline Values.xlsx',header=None)\n",
    "df_base"
   ]
  },
  {
   "cell_type": "markdown",
   "metadata": {},
   "source": [
    "## 1.2. Measuring Variability"
   ]
  },
  {
   "cell_type": "code",
   "execution_count": 3,
   "metadata": {
    "collapsed": false
   },
   "outputs": [],
   "source": [
    "n = 5000 # sample size  of cookies\n",
    "gross_conv = df_base.loc[4][1]\n",
    "reten = df_base.loc[5][1]\n",
    "net_conv = df_base.loc[6][1]\n",
    "CTP = df_base.loc[3][1]\n",
    "d_min_GC = .01\n",
    "d_min_R = .01\n",
    "d_min_NC = .0075"
   ]
  },
  {
   "cell_type": "code",
   "execution_count": 4,
   "metadata": {
    "collapsed": false
   },
   "outputs": [
    {
     "name": "stdout",
     "output_type": "stream",
     "text": [
      "0.0202 0.0156 0.0549\n"
     ]
    }
   ],
   "source": [
    "SE_GC= round(np.sqrt(gross_conv*(1-gross_conv)/(n*CTP)),4)\n",
    "SE_R = round(np.sqrt(reten*(1-reten)/(n*CTP*gross_conv)),4)\n",
    "SE_NC = round(np.sqrt(net_conv*(1-net_conv)/(n*CTP)),4)\n",
    "print SE_GC,SE_NC,SE_R"
   ]
  },
  {
   "cell_type": "markdown",
   "metadata": {},
   "source": [
    "## 1.3. Sizing"
   ]
  },
  {
   "cell_type": "markdown",
   "metadata": {},
   "source": [
    "#### 1.3.i. Choosing Number of Samples given Power"
   ]
  },
  {
   "cell_type": "code",
   "execution_count": 5,
   "metadata": {
    "collapsed": false
   },
   "outputs": [],
   "source": [
    "def get_z_star(alpha):\n",
    "    return round(norm.ppf(1-alpha/2),2)\n",
    "        \n",
    "def get_beta(d,s,N,z_star):\n",
    "    SE = s /  np.sqrt(N)\n",
    "    beta = norm.cdf(SE*z_star, loc=d, scale=SE) \n",
    "    return beta \n",
    "\n",
    "def required_size(s,d_min,beta=.2,alpha=.05,Ns=np.arange(10, 50000000, 50)):\n",
    "    for n in Ns:\n",
    "        if get_beta(d_min,s,n,get_z_star(alpha)) < beta:\n",
    "            return n"
   ]
  },
  {
   "cell_type": "code",
   "execution_count": 6,
   "metadata": {
    "collapsed": false
   },
   "outputs": [
    {
     "data": {
      "text/plain": [
       "(642750.0, 4740606.0606060605, 680250.0)"
      ]
     },
     "execution_count": 6,
     "metadata": {},
     "output_type": "execute_result"
    }
   ],
   "source": [
    "total_ss_G =2*(required_size(s=np.sqrt(gross_conv*(1-gross_conv)*2), d_min=d_min_GC)/CTP)\n",
    "total_ss_R =2*(required_size(s=np.sqrt(reten*(1-reten)*2), d_min=d_min_R)/(CTP*gross_conv))\n",
    "total_ss_N =2*(required_size(s=np.sqrt(net_conv*(1-net_conv)*2), d_min=d_min_NC)/CTP)\n",
    "\n",
    "total_ss_G, total_ss_R, total_ss_N"
   ]
  },
  {
   "cell_type": "markdown",
   "metadata": {},
   "source": [
    "*Note1 : only 0.08 pageview leads to click.\n",
    "*Note2: double pageview because we need total pageview for both experiment & control group\n",
    "\n",
    "The number of pageviews needed is 680250, which is a very large number. The duration to generate the traffic is unrealistic for a A/B testing (see next section). Thus retention will not be used as evaluation metric. The number of pageviews needed for this experiment will be 680250."
   ]
  },
  {
   "cell_type": "markdown",
   "metadata": {},
   "source": [
    "#### 1.3.ii. Choosing Duration vs. Exposure"
   ]
  },
  {
   "cell_type": "markdown",
   "metadata": {},
   "source": [
    "100% of Udacity's traffic will be diverted to this experiment.\n",
    "\n",
    "Changing whether users are given additional information that will only keep them more informed about a decision that, in the first place, doesn’t cost them any money and doesn’t put any of their personal information at risk, is not itself a “risky” change; therefore, there is no reason to restrict the experiment to any subset of the population"
   ]
  },
  {
   "cell_type": "code",
   "execution_count": 7,
   "metadata": {
    "collapsed": false
   },
   "outputs": [
    {
     "name": "stdout",
     "output_type": "stream",
     "text": [
      "To complete the experiment 17.0 are needed for gross_conv metric\n",
      "To complete the experiment 18.0 are needed for net_conv metric\n",
      "To complete the experiment 119.0 are needed for reten metric\n"
     ]
    }
   ],
   "source": [
    "import math \n",
    "\n",
    "pageviews = df_base[1][0]  # Unique cookies to view page per day:\n",
    "# Days needed to complete experiment\n",
    "days_G = math.ceil(total_ss_G/pageviews) \n",
    "days_N = math.ceil(total_ss_N/pageviews) \n",
    "days_R = math.ceil(total_ss_R/pageviews) \n",
    "\n",
    "print 'To complete the experiment', days_G, 'are needed for gross_conv metric'\n",
    "print 'To complete the experiment', days_N, 'are needed for net_conv metric'\n",
    "print 'To complete the experiment', days_R, 'are needed for reten metric'"
   ]
  },
  {
   "cell_type": "markdown",
   "metadata": {},
   "source": [
    "As the retention metric needs 119 days to collect the needed pageviews, it is not suitable for evaluation metric in A/B testing. For 100% exposure, it will take 18 days to complete the testing, which is a suitable duration for the experiment."
   ]
  },
  {
   "cell_type": "markdown",
   "metadata": {
    "collapsed": true
   },
   "source": [
    "# 2. Analysis"
   ]
  },
  {
   "cell_type": "markdown",
   "metadata": {
    "collapsed": true
   },
   "source": [
    "- **Pageviews**: Number of unique cookies to view the course overview page that day.\n",
    "- **Clicks**: Number of unique cookies to click the course overview page that day.\n",
    "- **Enrollments**: Number of user-ids to enroll in the free trial that day.\n",
    "- **Payments**: Number of user-ids who who enrolled on that day to remain enrolled for 14 days and thus make a payment. (Note that the date for this column is the start date, that is, the date of enrollment, rather than the date of the payment. The payment happened 14 days later. Because of this, the enrollments and payments are tracked for 14 fewer days than the other columns.)"
   ]
  },
  {
   "cell_type": "code",
   "execution_count": 8,
   "metadata": {
    "collapsed": false
   },
   "outputs": [
    {
     "data": {
      "text/html": [
       "<div>\n",
       "<table border=\"1\" class=\"dataframe\">\n",
       "  <thead>\n",
       "    <tr style=\"text-align: right;\">\n",
       "      <th></th>\n",
       "      <th>Date</th>\n",
       "      <th>Pageviews</th>\n",
       "      <th>Clicks</th>\n",
       "      <th>Enrollments</th>\n",
       "      <th>Payments</th>\n",
       "    </tr>\n",
       "  </thead>\n",
       "  <tbody>\n",
       "    <tr>\n",
       "      <th>0</th>\n",
       "      <td>Sat, Oct 11</td>\n",
       "      <td>7723</td>\n",
       "      <td>687</td>\n",
       "      <td>134.0</td>\n",
       "      <td>70.0</td>\n",
       "    </tr>\n",
       "    <tr>\n",
       "      <th>1</th>\n",
       "      <td>Sun, Oct 12</td>\n",
       "      <td>9102</td>\n",
       "      <td>779</td>\n",
       "      <td>147.0</td>\n",
       "      <td>70.0</td>\n",
       "    </tr>\n",
       "    <tr>\n",
       "      <th>2</th>\n",
       "      <td>Mon, Oct 13</td>\n",
       "      <td>10511</td>\n",
       "      <td>909</td>\n",
       "      <td>167.0</td>\n",
       "      <td>95.0</td>\n",
       "    </tr>\n",
       "    <tr>\n",
       "      <th>3</th>\n",
       "      <td>Tue, Oct 14</td>\n",
       "      <td>9871</td>\n",
       "      <td>836</td>\n",
       "      <td>156.0</td>\n",
       "      <td>105.0</td>\n",
       "    </tr>\n",
       "    <tr>\n",
       "      <th>4</th>\n",
       "      <td>Wed, Oct 15</td>\n",
       "      <td>10014</td>\n",
       "      <td>837</td>\n",
       "      <td>163.0</td>\n",
       "      <td>64.0</td>\n",
       "    </tr>\n",
       "  </tbody>\n",
       "</table>\n",
       "</div>"
      ],
      "text/plain": [
       "          Date  Pageviews  Clicks  Enrollments  Payments\n",
       "0  Sat, Oct 11       7723     687        134.0      70.0\n",
       "1  Sun, Oct 12       9102     779        147.0      70.0\n",
       "2  Mon, Oct 13      10511     909        167.0      95.0\n",
       "3  Tue, Oct 14       9871     836        156.0     105.0\n",
       "4  Wed, Oct 15      10014     837        163.0      64.0"
      ]
     },
     "execution_count": 8,
     "metadata": {},
     "output_type": "execute_result"
    }
   ],
   "source": [
    "df_cont = pd.read_excel('Final Project Results.xlsx',sheetname='Control')\n",
    "df_exp = pd.read_excel('Final Project Results.xlsx',sheetname='Experiment')\n",
    "#df_cont.Date.map(lambda x: x.split()[0][:3])\n",
    "df_cont.head()"
   ]
  },
  {
   "cell_type": "code",
   "execution_count": 9,
   "metadata": {
    "collapsed": false
   },
   "outputs": [
    {
     "data": {
      "text/html": [
       "<div>\n",
       "<table border=\"1\" class=\"dataframe\">\n",
       "  <thead>\n",
       "    <tr style=\"text-align: right;\">\n",
       "      <th></th>\n",
       "      <th>Date</th>\n",
       "      <th>Pageviews</th>\n",
       "      <th>Clicks</th>\n",
       "      <th>Enrollments</th>\n",
       "      <th>Payments</th>\n",
       "    </tr>\n",
       "  </thead>\n",
       "  <tbody>\n",
       "    <tr>\n",
       "      <th>32</th>\n",
       "      <td>Wed, Nov 12</td>\n",
       "      <td>10134</td>\n",
       "      <td>801</td>\n",
       "      <td>NaN</td>\n",
       "      <td>NaN</td>\n",
       "    </tr>\n",
       "    <tr>\n",
       "      <th>33</th>\n",
       "      <td>Thu, Nov 13</td>\n",
       "      <td>9717</td>\n",
       "      <td>814</td>\n",
       "      <td>NaN</td>\n",
       "      <td>NaN</td>\n",
       "    </tr>\n",
       "    <tr>\n",
       "      <th>34</th>\n",
       "      <td>Fri, Nov 14</td>\n",
       "      <td>9192</td>\n",
       "      <td>735</td>\n",
       "      <td>NaN</td>\n",
       "      <td>NaN</td>\n",
       "    </tr>\n",
       "    <tr>\n",
       "      <th>35</th>\n",
       "      <td>Sat, Nov 15</td>\n",
       "      <td>8630</td>\n",
       "      <td>743</td>\n",
       "      <td>NaN</td>\n",
       "      <td>NaN</td>\n",
       "    </tr>\n",
       "    <tr>\n",
       "      <th>36</th>\n",
       "      <td>Sun, Nov 16</td>\n",
       "      <td>8970</td>\n",
       "      <td>722</td>\n",
       "      <td>NaN</td>\n",
       "      <td>NaN</td>\n",
       "    </tr>\n",
       "  </tbody>\n",
       "</table>\n",
       "</div>"
      ],
      "text/plain": [
       "           Date  Pageviews  Clicks  Enrollments  Payments\n",
       "32  Wed, Nov 12      10134     801          NaN       NaN\n",
       "33  Thu, Nov 13       9717     814          NaN       NaN\n",
       "34  Fri, Nov 14       9192     735          NaN       NaN\n",
       "35  Sat, Nov 15       8630     743          NaN       NaN\n",
       "36  Sun, Nov 16       8970     722          NaN       NaN"
      ]
     },
     "execution_count": 9,
     "metadata": {},
     "output_type": "execute_result"
    }
   ],
   "source": [
    "df_cont.tail()"
   ]
  },
  {
   "cell_type": "markdown",
   "metadata": {},
   "source": [
    "## 2.1. Sanity Checks\n",
    "\n",
    "Check whether your invariant metrics are equivalent between the two groups\n",
    "- Number of cookies: Count - binominal test\n",
    "- Number of clicks: Count - binominal test\n",
    "- Click-through-probability:  check whether the difference between group values falls within that confidence level"
   ]
  },
  {
   "cell_type": "markdown",
   "metadata": {},
   "source": [
    "#### 2.1.i. Number of cookies"
   ]
  },
  {
   "cell_type": "code",
   "execution_count": 10,
   "metadata": {
    "collapsed": false
   },
   "outputs": [
    {
     "data": {
      "text/plain": [
       "(0.5006, (0.4988, 0.5012))"
      ]
     },
     "execution_count": 10,
     "metadata": {},
     "output_type": "execute_result"
    }
   ],
   "source": [
    "p = .5 # H_null : The cookies are distributed evenly\n",
    "n_pv_cont =np.sum(df_cont.Pageviews)\n",
    "n_pv_exp = np.sum(df_exp.Pageviews)\n",
    "SD_pv = np.sqrt(.5*(1-.5)/(n_pv_cont+n_pv_exp))\n",
    "p_hat = round(n_pv_cont/(n_pv_exp+n_pv_cont),4)\n",
    "m = norm.ppf(.975)*SD_pv\n",
    "CI = round(p-m,4),round(p+m,4)\n",
    "p_hat,CI\n",
    "# observed value is between the upper and lower bounds"
   ]
  },
  {
   "cell_type": "markdown",
   "metadata": {},
   "source": [
    "#### 2.1.ii. Number of clicks"
   ]
  },
  {
   "cell_type": "code",
   "execution_count": 11,
   "metadata": {
    "collapsed": false
   },
   "outputs": [
    {
     "data": {
      "text/plain": [
       "(0.5005, (0.4959, 0.5041))"
      ]
     },
     "execution_count": 11,
     "metadata": {},
     "output_type": "execute_result"
    }
   ],
   "source": [
    "p = .5 # H_null : The clicks are distributed evenly\n",
    "n_click_cont =np.sum(df_cont.Clicks)\n",
    "n_click_exp = np.sum(df_exp.Clicks)\n",
    "SD_click = np.sqrt(.5*(1-.5)/(n_click_cont+n_click_exp))\n",
    "p_hat = round(n_click_cont/(n_click_exp+n_click_cont),4)\n",
    "m = norm.ppf(.975)*SD_click\n",
    "CI = round(p-m,4),round(p+m,4)\n",
    "p_hat,CI\n",
    "# observed value is between the upper and lower bounds"
   ]
  },
  {
   "cell_type": "markdown",
   "metadata": {},
   "source": [
    "#### 2.1.iii. Click-through-probability"
   ]
  },
  {
   "cell_type": "code",
   "execution_count": 12,
   "metadata": {
    "collapsed": false
   },
   "outputs": [
    {
     "data": {
      "text/plain": [
       "(0.0001, (-0.0013, 0.0013))"
      ]
     },
     "execution_count": 12,
     "metadata": {},
     "output_type": "execute_result"
    }
   ],
   "source": [
    "d = 0 # H_null : CTP_exp - CTP_cont = 0\n",
    "p_hat_cont = n_click_cont/ n_pv_cont\n",
    "p_hat_exp = n_click_exp/ n_pv_exp\n",
    "p_hat_pool = (n_click_cont+n_click_exp)/ (n_pv_cont + n_pv_exp)\n",
    "d_hat = round(p_hat_exp-p_hat_cont,4)\n",
    "SE_hat_pool = np.sqrt(p_hat_pool*(1-p_hat_pool)*(1/n_pv_cont+1/n_pv_exp))\n",
    "m = norm.ppf(.975)*SE_hat_pool\n",
    "CI = round(d-m,4),round(d+m,4)\n",
    "d_hat,CI\n",
    "# observed value is between the upper and lower bounds"
   ]
  },
  {
   "cell_type": "markdown",
   "metadata": {},
   "source": [
    "## 2.2. Effect Size Tests - Check for Practical and Statistical Significance "
   ]
  },
  {
   "cell_type": "code",
   "execution_count": 13,
   "metadata": {
    "collapsed": false
   },
   "outputs": [
    {
     "name": "stdout",
     "output_type": "stream",
     "text": [
      "0                 Unique cookies to view page per day:\n",
      "1    Unique cookies to click \"Start free trial\" per...\n",
      "2                                 Enrollments per day:\n",
      "3     Click-through-probability on \"Start free trial\":\n",
      "4               Probability of enrolling, given click:\n",
      "5                Probability of payment, given enroll:\n",
      "6                  Probability of payment, given click\n",
      "Name: 0, dtype: object\n",
      "Index([u'Date', u'Pageviews', u'Clicks', u'Enrollments', u'Payments'], dtype='object')\n"
     ]
    }
   ],
   "source": [
    "print df_base[0]\n",
    "print df_cont.columns"
   ]
  },
  {
   "cell_type": "markdown",
   "metadata": {},
   "source": [
    "#### 2.2.i. Gross conversion \n",
    "Probability of enrolling, given click = enrollments / clicks"
   ]
  },
  {
   "cell_type": "code",
   "execution_count": 29,
   "metadata": {
    "collapsed": false
   },
   "outputs": [
    {
     "data": {
      "text/plain": [
       "(0, 0.01, (-0.029168326307143104, -0.012))"
      ]
     },
     "execution_count": 29,
     "metadata": {},
     "output_type": "execute_result"
    }
   ],
   "source": [
    "n_enroll_cont = np.sum(df_cont.Enrollments>0)\n",
    "p_hat_cont = np.sum(df_cont.Enrollments)/np.sum(df_cont.Clicks[:n_enroll_cont])\n",
    "\n",
    "n_enroll_exp = np.sum(df_exp.Enrollments>0)\n",
    "p_hat_exp = np.sum(df_exp.Enrollments)/np.sum(df_exp.Clicks[:n_enroll_exp])\n",
    "\n",
    "p_hat_pool =  (np.sum(df_exp.Enrollments)+np.sum(df_cont.Enrollments))\\\n",
    "/ (np.sum(df_exp.Clicks[:n_enroll_exp])+np.sum(df_cont.Clicks[:n_enroll_cont]))\n",
    "# p_hat_cont,p_hat_exp,p_hat_pool\n",
    "\n",
    "d_hat = round(p_hat_exp-p_hat_cont,4)\n",
    "SE_hat_pool = np.sqrt(p_hat_pool*(1-p_hat_pool)*\\\n",
    "(1/np.sum(df_exp.Clicks[:n_enroll_exp])+1/np.sum(df_cont.Clicks[:n_enroll_cont])))\n",
    "\n",
    "m = norm.ppf(.975)*SE_hat_pool\n",
    "CI = d_hat-m,round(d_hat+m,4)\n",
    "d,d_min_GC,CI"
   ]
  },
  {
   "cell_type": "markdown",
   "metadata": {},
   "source": [
    "As the bound does not cover zero, it is statistically significant. It is also practically significant\n",
    "because the bound does not cover the practical significance (dmin) of 0.01."
   ]
  },
  {
   "cell_type": "code",
   "execution_count": 28,
   "metadata": {
    "collapsed": false
   },
   "outputs": [
    {
     "data": {
      "image/png": "[encoded data removed]",
      "text/plain": [
       "<matplotlib.figure.Figure at 0x7f39ca887710>"
      ]
     },
     "metadata": {},
     "output_type": "display_data"
    }
   ],
   "source": [
    "sns.distplot(df_cont.Enrollments[:n_enroll_cont]/df_cont.Clicks[:n_enroll_cont],bins=5,label=\"Control\")\n",
    "sns.distplot(df_exp.Enrollments[:n_enroll_exp]/df_exp.Clicks[:n_enroll_exp],bins=5,label=\"Experiment\")\n",
    "plt.legend();"
   ]
  },
  {
   "cell_type": "markdown",
   "metadata": {},
   "source": [
    "The comparison of the distributions of experiment and control group's gross conversions is also inline with the alternative hypothesis that the experiment group;s gross conversion is less than the experiment group.\n",
    "\n",
    "The hypothesis of the experiment is that the screen popup will reduce the number of\n",
    "frustrated students who left the trial because they do not have enough time. Thus we\n",
    "expect that the number of students to complete the checkout and enroll in the free trial\n",
    "should be **reduced** if we launch the feature. Gross conversion is the number of userids\n",
    "to enroll and complete payment over the number of clicks and it is expected that gross conversion rate should **decrease** to launch the new feature."
   ]
  },
  {
   "cell_type": "markdown",
   "metadata": {},
   "source": [
    "#### 2.2.ii. Net conversion\n",
    "\n",
    "Probability of payment, given click = Payments / Clicks"
   ]
  },
  {
   "cell_type": "code",
   "execution_count": 16,
   "metadata": {
    "collapsed": false
   },
   "outputs": [
    {
     "data": {
      "text/plain": [
       "(0, 0.0075, (-0.0116, 0.0018))"
      ]
     },
     "execution_count": 16,
     "metadata": {},
     "output_type": "execute_result"
    }
   ],
   "source": [
    "n_payment_cont = np.sum(df_cont.Payments>0)\n",
    "p_hat_cont = np.sum(df_cont.Payments)/np.sum(df_cont.Clicks[:n_payment_cont])\n",
    "\n",
    "n_payment_exp = np.sum(df_exp.Payments>0)\n",
    "p_hat_exp = np.sum(df_exp.Payments)/np.sum(df_exp.Clicks[:n_payment_exp])\n",
    "\n",
    "p_hat_pool =  (np.sum(df_exp.Payments)+np.sum(df_cont.Payments))\\\n",
    "/ (np.sum(df_exp.Clicks[:n_payment_exp])+np.sum(df_cont.Clicks[:n_payment_cont]))\n",
    "# p_hat_cont,p_hat_exp,p_hat_pool\n",
    "\n",
    "d_hat = round(p_hat_exp-p_hat_cont,4)\n",
    "SE_hat_pool = np.sqrt(p_hat_pool*(1-p_hat_pool)*\\\n",
    "(1/np.sum(df_exp.Clicks[:n_payment_exp])+1/np.sum(df_cont.Clicks[:n_payment_cont])))\n",
    "\n",
    "m = norm.ppf(.975)*SE_hat_pool\n",
    "CI = round(d_hat-m,4),round(d_hat+m,4)\n",
    "d,d_min_NC,CI"
   ]
  },
  {
   "cell_type": "markdown",
   "metadata": {},
   "source": [
    "As the bound includes zero, it is neither statistically significant and practically significant"
   ]
  },
  {
   "cell_type": "code",
   "execution_count": 17,
   "metadata": {
    "collapsed": false
   },
   "outputs": [
    {
     "data": {
      "image/png": "[encoded data removed]",
      "text/plain": [
       "<matplotlib.figure.Figure at 0x7f3a012bdc50>"
      ]
     },
     "metadata": {},
     "output_type": "display_data"
    }
   ],
   "source": [
    "sns.distplot(df_cont.Payments[:n_payment_cont]/df_cont.Clicks[:n_payment_cont],bins=5,label=\"Control\")\n",
    "sns.distplot(df_exp.Payments[:n_payment_exp]/df_exp.Clicks[:n_payment_exp],bins=5,label=\"Experiment\")\n",
    "plt.legend();"
   ]
  },
  {
   "cell_type": "markdown",
   "metadata": {},
   "source": [
    "The comparison of the distributions of experiment and control group's net conversions is also shows that the distributions are more or less the same."
   ]
  },
  {
   "cell_type": "markdown",
   "metadata": {
    "collapsed": true
   },
   "source": [
    "## 2.3. Sign Tests"
   ]
  },
  {
   "cell_type": "code",
   "execution_count": 73,
   "metadata": {
    "collapsed": false
   },
   "outputs": [
    {
     "data": {
      "text/plain": [
       "(4, 23, 0.0026)"
      ]
     },
     "execution_count": 73,
     "metadata": {},
     "output_type": "execute_result"
    }
   ],
   "source": [
    "GC_cont = df_cont.Enrollments[:n_enroll_cont]/df_cont.Clicks[:n_enroll_cont]\n",
    "GC_exp = df_exp.Enrollments[:n_enroll_exp]/df_exp.Clicks[:n_enroll_exp]\n",
    "n_pos = np.sum(GC_exp>GC_cont)\n",
    "n_all = GC_cont.size\n",
    "p_GC = round(2*binom.cdf(n_pos,n_all,p=.5),4)\n",
    "n_pos,n_all,p_GC"
   ]
  },
  {
   "cell_type": "code",
   "execution_count": 70,
   "metadata": {
    "collapsed": false
   },
   "outputs": [
    {
     "data": {
      "text/plain": [
       "(10, 23, 0.6776)"
      ]
     },
     "execution_count": 70,
     "metadata": {},
     "output_type": "execute_result"
    }
   ],
   "source": [
    "NC_cont = df_cont.Payments[:n_payment_cont]/df_cont.Clicks[:n_payment_cont]\n",
    "NC_exp = df_exp.Payments[:n_payment_exp]/df_exp.Clicks[:n_payment_exp]\n",
    "\n",
    "n_pos = np.sum(NC_exp>NC_cont)\n",
    "n_all = NC_cont.size\n",
    "p_NC = round(2*binom.cdf(n_pos,n_all,p=.5),4)\n",
    "n_pos,n_all,p_NC,"
   ]
  },
  {
   "cell_type": "markdown",
   "metadata": {
    "collapsed": true
   },
   "source": [
    "## 2.4. Comments"
   ]
  },
  {
   "cell_type": "code",
   "execution_count": 80,
   "metadata": {
    "collapsed": false
   },
   "outputs": [
    {
     "data": {
      "text/plain": [
       "0.0975"
      ]
     },
     "execution_count": 80,
     "metadata": {},
     "output_type": "execute_result"
    }
   ],
   "source": [
    "alpha = .05\n",
    "overall_alpha = (1-(1-alpha)**2)\n",
    "round(overall_alpha,4) # P(FP>=1)"
   ]
  },
  {
   "cell_type": "markdown",
   "metadata": {},
   "source": [
    "- Issues regarding tracking multiple metrics : The probability at least one metric will show a significant difference if there is no true difference is %9 which is quite small.\n",
    "\n",
    "- Bonferroni correction: I chose not to use the Bonferroni correction, because in this setting we are checking for a significant  change in both of our evaluation metrics, and not just one . The Bonferroni correction adjusts for the  scenario where we are looking for any significant changes. There are no discrepancies between the effect\n",
    "\n",
    "- Bonferroni correction was also not used because the metrics in the test has high correlation (high variance) and the Bonferroni correction will be too conservative to it. I completely comprehend the importance to correct if a test is launched and the metrics shows a significant difference, because it's more liely that one of multiple metrics will be falsely positive as the number of metrics increases. However, we would only launch if all evaluation metrics must show a significant change. In that case, there would be no need to use Bonferroni correction. In other words, correction is applied if we are using OR on all metrics, but not if we are testing for AND of all metrics.\n",
    "\n",
    "- Size tests and the sign tests: the gross conversion change is statistically significant to both tests, and the net conversion change is not statistically significant to both tests\n",
    "\n",
    "- The experiment shows that the change will significantly decrease the gross conversion rate and\n",
    "keep the net conversion rate unchanged."
   ]
  },
  {
   "cell_type": "markdown",
   "metadata": {},
   "source": [
    "https://docs.google.com/document/u/1/d/1aCquhIqsUApgsxQ8-SQBAigFDcfWVVohLEXcV6jWbdI/pub?embedded=True"
   ]
  }
 ],
 "metadata": {
  "kernelspec": {
   "display_name": "Python [Root]",
   "language": "python",
   "name": "Python [Root]"
  },
  "language_info": {
   "codemirror_mode": {
    "name": "ipython",
    "version": 2
   },
   "file_extension": ".py",
   "mimetype": "text/x-python",
   "name": "python",
   "nbconvert_exporter": "python",
   "pygments_lexer": "ipython2",
   "version": "2.7.12"
  }
 },
 "nbformat": 4,
 "nbformat_minor": 0
}
